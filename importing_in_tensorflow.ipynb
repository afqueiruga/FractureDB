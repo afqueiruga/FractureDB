{
 "cells": [
  {
   "cell_type": "code",
   "execution_count": 28,
   "metadata": {},
   "outputs": [],
   "source": [
    "import tensorflow as tf\n",
    "import numpy as np\n",
    "from SimDataDB import SimDataDB\n",
    "%matplotlib inline\n",
    "from matplotlib import pylab as plt\n",
    "from matplotlib.pyplot import imshow"
   ]
  },
  {
   "cell_type": "code",
   "execution_count": 29,
   "metadata": {},
   "outputs": [],
   "source": [
    "sdb = SimDataDB('pix.db')"
   ]
  },
  {
   "cell_type": "code",
   "execution_count": 6,
   "metadata": {},
   "outputs": [],
   "source": [
    "sess = tf.InteractiveSession()"
   ]
  },
  {
   "cell_type": "code",
   "execution_count": 84,
   "metadata": {},
   "outputs": [
    {
     "name": "stdout",
     "output_type": "stream",
     "text": [
      "Failed to sort.\n"
     ]
    }
   ],
   "source": [
    "r=np.vstack(sdb.Query('select pic from static order by random() limit 10'))"
   ]
  },
  {
   "cell_type": "code",
   "execution_count": 86,
   "metadata": {},
   "outputs": [
    {
     "data": {
      "text/plain": [
       "(10, 32, 32, 3)"
      ]
     },
     "execution_count": 86,
     "metadata": {},
     "output_type": "execute_result"
    }
   ],
   "source": [
    "r.shape"
   ]
  },
  {
   "cell_type": "markdown",
   "metadata": {},
   "source": [
    "Because the image data is stored as binary blobs, we can't use the SQLDataset in tensorflow. Instead, we make a generator that runs queries on the batch size. SimDataDB has the array-packing protocol implemented in it."
   ]
  },
  {
   "cell_type": "code",
   "execution_count": 186,
   "metadata": {},
   "outputs": [],
   "source": [
    "def gen():\n",
    "    \"\"\"Returns the 3 channel image\"\"\"\n",
    "    while True:\n",
    "        yield np.vstack(sdb.Query('select pic from static order by random() limit 10')),\n",
    "data = tf.data.Dataset.from_generator(gen, (tf.float32,),(tf.TensorShape([None,32,32,3]),) )"
   ]
  },
  {
   "cell_type": "code",
   "execution_count": 187,
   "metadata": {},
   "outputs": [],
   "source": [
    "def gen():\n",
    "    \"\"\"Returns the energy and the b&w fracture pic\"\"\"\n",
    "    while True:\n",
    "        r = sdb.Query('select W,pic from static order by random() limit 10')\n",
    "        yield np.vstack([_[0] for _ in r]),1-np.stack([_[1][:,:,2] for _ in r]),\n",
    "data = tf.data.Dataset.from_generator(gen, (tf.float32,tf.float32,),\n",
    "                                      (tf.TensorShape([None,1]),tf.TensorShape([None,32,32,]),) )\n"
   ]
  },
  {
   "cell_type": "code",
   "execution_count": 177,
   "metadata": {},
   "outputs": [],
   "source": [
    "#data = tf.data.experimental.SqlDataset(\"sqlite\", 'pix.db',\n",
    "#                                       'select W,G_c,pic from static',\n",
    "#                                       (tf.float64,tf.float64,tf.Tensor))"
   ]
  },
  {
   "cell_type": "code",
   "execution_count": 178,
   "metadata": {},
   "outputs": [],
   "source": [
    "iterator = data.make_one_shot_iterator()\n",
    "nxt = iterator.get_next()"
   ]
  },
  {
   "cell_type": "code",
   "execution_count": 185,
   "metadata": {},
   "outputs": [],
   "source": []
  },
  {
   "cell_type": "code",
   "execution_count": 204,
   "metadata": {},
   "outputs": [],
   "source": [
    "i_W = nxt[0]\n",
    "i_pic = nxt[1]\n",
    "A = tf.Variable(tf.truncated_normal(shape=(32,32,1),stddev=0.1))\n",
    "o_W = tf.einsum('ijk,jkl->il',i_pic,A)\n",
    "o_goal = tf.losses.mean_squared_error(o_W,i_W)"
   ]
  },
  {
   "cell_type": "code",
   "execution_count": null,
   "metadata": {},
   "outputs": [],
   "source": [
    "o_goal = tf.reduce_mean"
   ]
  },
  {
   "cell_type": "code",
   "execution_count": 198,
   "metadata": {},
   "outputs": [],
   "source": [
    "learning_rate = 1e-2\n",
    "optimizer = tf.train.AdamOptimizer(learning_rate)\n",
    "train_step = optimizer.minimize(o_goal, var_list=[A])"
   ]
  },
  {
   "cell_type": "code",
   "execution_count": 208,
   "metadata": {},
   "outputs": [],
   "source": [
    "init = tf.global_variables_initializer()"
   ]
  },
  {
   "cell_type": "code",
   "execution_count": null,
   "metadata": {},
   "outputs": [],
   "source": []
  },
  {
   "cell_type": "code",
   "execution_count": 211,
   "metadata": {},
   "outputs": [
    {
     "name": "stdout",
     "output_type": "stream",
     "text": [
      "0.52785814\n",
      "0.31802106\n",
      "0.61531866\n",
      "0.2239484\n",
      "0.47308898\n",
      "0.1452969\n",
      "0.14818737\n",
      "0.16958627\n",
      "0.23533586\n",
      "0.13696486\n",
      "0.3546534\n",
      "0.34861964\n",
      "0.27850103\n",
      "0.12332623\n",
      "0.118767574\n",
      "0.0887519\n",
      "0.058497943\n",
      "0.047551073\n",
      "0.11004804\n",
      "0.08665702\n",
      "0.10844503\n",
      "0.13586214\n",
      "0.058221124\n",
      "0.07092847\n",
      "0.10384427\n",
      "0.29018873\n",
      "0.114653885\n",
      "0.022364844\n",
      "0.035875138\n",
      "0.07467912\n",
      "0.030135218\n",
      "0.066757075\n",
      "0.09339397\n",
      "0.108720005\n",
      "0.034771115\n",
      "0.074159406\n",
      "0.05923755\n",
      "0.08981185\n",
      "0.026017731\n",
      "0.05595373\n",
      "0.1444225\n",
      "0.08853779\n",
      "0.033817463\n",
      "0.04324438\n",
      "0.06227255\n",
      "0.011674087\n",
      "0.106775686\n",
      "0.032865975\n",
      "0.04674391\n",
      "0.07925899\n",
      "0.016697315\n",
      "0.056715995\n",
      "0.031872097\n",
      "0.06184222\n",
      "0.026263852\n",
      "0.023658093\n",
      "0.04021799\n",
      "0.09865668\n",
      "0.027315745\n",
      "0.08453981\n",
      "0.025653109\n",
      "0.031095073\n",
      "0.0253326\n",
      "0.04846073\n",
      "0.02523751\n",
      "0.025190124\n",
      "0.07690946\n",
      "0.024904419\n",
      "0.08268626\n",
      "0.082659006\n",
      "0.034884788\n",
      "0.07868797\n",
      "0.11244295\n",
      "0.050963353\n",
      "0.06300028\n",
      "0.03421105\n",
      "0.018123416\n",
      "0.05442942\n",
      "0.06271631\n",
      "0.038230788\n",
      "0.020121684\n",
      "0.042839885\n",
      "0.06845792\n",
      "0.042734068\n",
      "0.059472054\n",
      "0.011089094\n",
      "0.025263837\n",
      "0.34942526\n",
      "0.052643485\n",
      "0.013709927\n",
      "0.063459024\n",
      "0.03981284\n",
      "0.11840483\n",
      "0.10447003\n",
      "0.024697855\n",
      "0.042056143\n",
      "0.022102153\n",
      "0.14705643\n",
      "0.014071492\n",
      "0.024571445\n"
     ]
    }
   ],
   "source": [
    "sess.run(init)\n",
    "for i in range(100):\n",
    "    sess.run(train_step)\n",
    "    print sess.run(o_goal)"
   ]
  },
  {
   "cell_type": "code",
   "execution_count": 206,
   "metadata": {},
   "outputs": [],
   "source": []
  },
  {
   "cell_type": "code",
   "execution_count": 210,
   "metadata": {},
   "outputs": [
    {
     "ename": "IndexError",
     "evalue": "too many indices for array",
     "output_type": "error",
     "traceback": [
      "\u001b[0;31m---------------------------------------------------------------------------\u001b[0m",
      "\u001b[0;31mIndexError\u001b[0m                                Traceback (most recent call last)",
      "\u001b[0;32m<ipython-input-210-166b4d5fe477>\u001b[0m in \u001b[0;36m<module>\u001b[0;34m()\u001b[0m\n\u001b[0;32m----> 1\u001b[0;31m \u001b[0mimshow\u001b[0m\u001b[0;34m(\u001b[0m\u001b[0mr\u001b[0m\u001b[0;34m[\u001b[0m\u001b[0;36m1\u001b[0m\u001b[0;34m]\u001b[0m\u001b[0;34m[\u001b[0m\u001b[0;36m3\u001b[0m\u001b[0;34m,\u001b[0m\u001b[0;34m:\u001b[0m\u001b[0;34m,\u001b[0m\u001b[0;34m:\u001b[0m\u001b[0;34m]\u001b[0m\u001b[0;34m)\u001b[0m\u001b[0;34m\u001b[0m\u001b[0m\n\u001b[0m",
      "\u001b[0;31mIndexError\u001b[0m: too many indices for array"
     ]
    }
   ],
   "source": [
    "imshow(r[1][3,:,:])"
   ]
  },
  {
   "cell_type": "code",
   "execution_count": null,
   "metadata": {},
   "outputs": [],
   "source": []
  }
 ],
 "metadata": {
  "kernelspec": {
   "display_name": "Python 3",
   "language": "python",
   "name": "python3"
  },
  "language_info": {
   "codemirror_mode": {
    "name": "ipython",
    "version": 2
   },
   "file_extension": ".py",
   "mimetype": "text/x-python",
   "name": "python",
   "nbconvert_exporter": "python",
   "pygments_lexer": "ipython2",
   "version": "2.7.15"
  }
 },
 "nbformat": 4,
 "nbformat_minor": 2
}
