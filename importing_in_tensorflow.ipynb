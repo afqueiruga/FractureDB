{
 "cells": [
  {
   "cell_type": "code",
   "execution_count": 28,
   "metadata": {},
   "outputs": [],
   "source": [
    "import tensorflow as tf\n",
    "import numpy as np\n",
    "from SimDataDB import SimDataDB\n",
    "%matplotlib inline\n",
    "from matplotlib import pylab as plt\n",
    "from matplotlib.pyplot import imshow"
   ]
  },
  {
   "cell_type": "code",
   "execution_count": 29,
   "metadata": {},
   "outputs": [],
   "source": [
    "sdb = SimDataDB('pix.db')"
   ]
  },
  {
   "cell_type": "code",
   "execution_count": 6,
   "metadata": {},
   "outputs": [],
   "source": [
    "sess = tf.InteractiveSession()"
   ]
  },
  {
   "cell_type": "code",
   "execution_count": 84,
   "metadata": {},
   "outputs": [
    {
     "name": "stdout",
     "output_type": "stream",
     "text": [
      "Failed to sort.\n"
     ]
    }
   ],
   "source": [
    "r=np.vstack(sdb.Query('select pic from static order by random() limit 10'))"
   ]
  },
  {
   "cell_type": "code",
   "execution_count": 86,
   "metadata": {},
   "outputs": [
    {
     "data": {
      "text/plain": [
       "(10, 32, 32, 3)"
      ]
     },
     "execution_count": 86,
     "metadata": {},
     "output_type": "execute_result"
    }
   ],
   "source": [
    "r.shape"
   ]
  },
  {
   "cell_type": "code",
   "execution_count": 186,
   "metadata": {},
   "outputs": [],
   "source": [
    "def gen():\n",
    "    \"\"\"Returns the 3 channel image\"\"\"\n",
    "    while True:\n",
    "        yield np.vstack(sdb.Query('select pic from static order by random() limit 10')),\n",
    "data = tf.data.Dataset.from_generator(gen, (tf.float32,),(tf.TensorShape([None,32,32,3]),) )"
   ]
  },
  {
   "cell_type": "code",
   "execution_count": 187,
   "metadata": {},
   "outputs": [],
   "source": [
    "def gen():\n",
    "    \"\"\"Returns the energy and the b&w fracture pic\"\"\"\n",
    "    while True:\n",
    "        r = sdb.Query('select W,pic from static order by random() limit 10')\n",
    "        yield np.vstack([_[0] for _ in r]),1-np.stack([_[1][:,:,2] for _ in r]),\n",
    "data = tf.data.Dataset.from_generator(gen, (tf.float32,tf.float32,),(tf.TensorShape([None,1]),tf.TensorShape([None,32,32,]),) )"
   ]
  },
  {
   "cell_type": "code",
   "execution_count": 177,
   "metadata": {},
   "outputs": [],
   "source": [
    "#data = tf.data.experimental.SqlDataset(\"sqlite\", 'pix.db',\n",
    "#                                       'select W,G_c,pic from static',\n",
    "#                                       (tf.float64,tf.float64,tf.Tensor))"
   ]
  },
  {
   "cell_type": "code",
   "execution_count": 178,
   "metadata": {},
   "outputs": [],
   "source": [
    "iterator = data.make_one_shot_iterator()\n",
    "nxt = iterator.get_next()"
   ]
  },
  {
   "cell_type": "code",
   "execution_count": 185,
   "metadata": {},
   "outputs": [],
   "source": []
  },
  {
   "cell_type": "code",
   "execution_count": 204,
   "metadata": {},
   "outputs": [],
   "source": [
    "i_W = nxt[0]\n",
    "i_pic = nxt[1]\n",
    "A = tf.Variable(tf.truncated_normal(shape=(32,32,1),stddev=0.1))\n",
    "o_W = tf.einsum('ijk,jkl->il',i_pic,A)\n",
    "o_goal = tf.losses.mean_squared_error(o_W,i_W)"
   ]
  },
  {
   "cell_type": "code",
   "execution_count": null,
   "metadata": {},
   "outputs": [],
   "source": [
    "o_goal = tf.reduce_mean"
   ]
  },
  {
   "cell_type": "code",
   "execution_count": 198,
   "metadata": {},
   "outputs": [],
   "source": [
    "learning_rate = 1e-2\n",
    "optimizer = tf.train.AdamOptimizer(learning_rate)\n",
    "train_step = optimizer.minimize(o_goal, var_list=[A])"
   ]
  },
  {
   "cell_type": "code",
   "execution_count": 208,
   "metadata": {},
   "outputs": [],
   "source": [
    "init = tf.global_variables_initializer()"
   ]
  },
  {
   "cell_type": "code",
   "execution_count": null,
   "metadata": {},
   "outputs": [],
   "source": []
  },
  {
   "cell_type": "code",
   "execution_count": 209,
   "metadata": {},
   "outputs": [
    {
     "name": "stdout",
     "output_type": "stream",
     "text": [
      "0.8595235\n",
      "0.38722596\n",
      "1.1400604\n",
      "0.22551927\n",
      "0.41321498\n",
      "0.19796798\n",
      "0.12507287\n",
      "0.26432502\n",
      "0.14211819\n",
      "0.12416021\n",
      "0.13793738\n",
      "0.12571129\n",
      "0.15398066\n",
      "0.2439026\n",
      "0.0677676\n",
      "0.12264286\n",
      "0.08811759\n",
      "0.3124218\n",
      "0.10302564\n",
      "0.08818773\n",
      "0.14578156\n",
      "0.13803728\n",
      "0.2343292\n",
      "0.18365939\n",
      "0.09059195\n",
      "0.099130765\n",
      "0.047309518\n",
      "0.06912633\n",
      "0.08366527\n",
      "0.06740996\n",
      "0.13703796\n",
      "0.12950966\n",
      "0.2394164\n",
      "0.025162125\n",
      "0.1289521\n",
      "0.086825825\n",
      "0.17121369\n",
      "0.12892142\n",
      "0.027387878\n",
      "0.076898076\n",
      "0.04990658\n",
      "0.12562017\n",
      "0.05295077\n",
      "0.06322077\n",
      "0.082472935\n",
      "0.05753836\n",
      "0.05790922\n",
      "0.06838696\n",
      "0.15059398\n",
      "0.011606638\n",
      "0.0715858\n",
      "0.07732662\n",
      "0.056374438\n",
      "0.10884364\n",
      "0.05596233\n",
      "0.08264726\n",
      "0.0637099\n",
      "0.06597678\n",
      "0.01915214\n",
      "0.019128071\n",
      "0.010777025\n",
      "0.090542994\n",
      "0.038089078\n",
      "0.042621918\n",
      "0.07491053\n",
      "0.04297199\n",
      "0.028612291\n",
      "0.027192503\n",
      "0.027108675\n",
      "0.033115678\n",
      "0.06880256\n",
      "0.02467086\n",
      "0.075858116\n",
      "0.036387254\n",
      "0.037585426\n",
      "0.03796685\n",
      "0.025122052\n",
      "0.032316662\n",
      "0.09778456\n",
      "0.014286813\n",
      "0.0072779926\n",
      "0.19062862\n",
      "0.023480158\n",
      "0.012479847\n",
      "0.064223714\n",
      "0.0080105495\n",
      "0.057836317\n",
      "0.01878149\n",
      "0.029174957\n",
      "0.03156372\n",
      "0.15361594\n",
      "0.1621938\n",
      "0.0069032833\n",
      "0.016495634\n",
      "0.02801687\n",
      "0.013892296\n",
      "0.04628652\n",
      "0.01657636\n",
      "0.03683334\n",
      "0.055798095\n",
      "0.015581548\n",
      "0.020032534\n",
      "0.02931478\n",
      "0.027319366\n",
      "0.035214312\n",
      "0.04272466\n",
      "0.013330119\n",
      "0.021924296\n",
      "0.026945865\n",
      "0.03541822\n",
      "0.033594415\n",
      "0.02709781\n",
      "0.047770422\n",
      "0.027330354\n",
      "0.021728301\n",
      "0.073448315\n",
      "0.044496972\n",
      "0.008481053\n",
      "0.026992679\n",
      "0.023709822\n",
      "0.04809024\n",
      "0.016576039\n",
      "0.020637797\n",
      "0.046430416\n",
      "0.03138486\n",
      "0.030551244\n",
      "0.017802363\n",
      "0.027354974\n",
      "0.047322355\n",
      "0.03896799\n",
      "0.03387129\n",
      "0.013271159\n",
      "0.020388136\n",
      "0.037964523\n",
      "0.009460823\n",
      "0.0128385695\n",
      "0.023896057\n",
      "0.029578095\n",
      "0.036038138\n",
      "0.018226335\n",
      "0.043493345\n",
      "0.013855899\n",
      "0.012396556\n",
      "0.019784955\n",
      "0.020075083\n",
      "0.03308742\n",
      "0.040721886\n",
      "0.013812249\n",
      "0.0073257224\n",
      "0.014416757\n",
      "0.011673859\n",
      "0.011974998\n",
      "0.00686799\n",
      "0.019530825\n",
      "0.008694093\n",
      "0.020310126\n",
      "0.031780012\n",
      "0.02848298\n",
      "0.018867236\n",
      "0.02166735\n",
      "0.026524644\n",
      "0.03489505\n",
      "0.02169723\n",
      "0.015034485\n",
      "0.0059624375\n",
      "0.006900163\n",
      "0.030050918\n",
      "0.011866988\n",
      "0.10639284\n",
      "0.012485691\n",
      "0.045538254\n",
      "0.025637332\n",
      "0.0556309\n",
      "0.011392904\n",
      "0.014276584\n",
      "0.016119236\n",
      "0.011768058\n",
      "0.0055357143\n",
      "0.033573896\n",
      "0.031793263\n",
      "0.009877227\n",
      "0.010923473\n",
      "0.016701696\n",
      "0.01572645\n",
      "0.006468533\n",
      "0.011395691\n",
      "0.027161777\n",
      "0.023714863\n",
      "0.015685724\n",
      "0.03034775\n",
      "0.014623141\n",
      "0.0043060435\n",
      "0.016067637\n",
      "0.019846221\n",
      "0.011475774\n",
      "0.0131959375\n",
      "0.0074847816\n",
      "0.014568632\n",
      "0.014897309\n",
      "0.01464765\n"
     ]
    }
   ],
   "source": [
    "sess.run(init)\n",
    "for i in range(200):\n",
    "    sess.run(train_step)\n",
    "    print sess.run(o_goal)"
   ]
  },
  {
   "cell_type": "code",
   "execution_count": 206,
   "metadata": {},
   "outputs": [],
   "source": []
  },
  {
   "cell_type": "code",
   "execution_count": 210,
   "metadata": {},
   "outputs": [
    {
     "ename": "IndexError",
     "evalue": "too many indices for array",
     "output_type": "error",
     "traceback": [
      "\u001b[0;31m---------------------------------------------------------------------------\u001b[0m",
      "\u001b[0;31mIndexError\u001b[0m                                Traceback (most recent call last)",
      "\u001b[0;32m<ipython-input-210-166b4d5fe477>\u001b[0m in \u001b[0;36m<module>\u001b[0;34m()\u001b[0m\n\u001b[0;32m----> 1\u001b[0;31m \u001b[0mimshow\u001b[0m\u001b[0;34m(\u001b[0m\u001b[0mr\u001b[0m\u001b[0;34m[\u001b[0m\u001b[0;36m1\u001b[0m\u001b[0;34m]\u001b[0m\u001b[0;34m[\u001b[0m\u001b[0;36m3\u001b[0m\u001b[0;34m,\u001b[0m\u001b[0;34m:\u001b[0m\u001b[0;34m,\u001b[0m\u001b[0;34m:\u001b[0m\u001b[0;34m]\u001b[0m\u001b[0;34m)\u001b[0m\u001b[0;34m\u001b[0m\u001b[0m\n\u001b[0m",
      "\u001b[0;31mIndexError\u001b[0m: too many indices for array"
     ]
    }
   ],
   "source": [
    "imshow(r[1][3,:,:])"
   ]
  },
  {
   "cell_type": "code",
   "execution_count": null,
   "metadata": {},
   "outputs": [],
   "source": []
  }
 ],
 "metadata": {
  "kernelspec": {
   "display_name": "Python 3",
   "language": "python",
   "name": "python3"
  },
  "language_info": {
   "codemirror_mode": {
    "name": "ipython",
    "version": 2
   },
   "file_extension": ".py",
   "mimetype": "text/x-python",
   "name": "python",
   "nbconvert_exporter": "python",
   "pygments_lexer": "ipython2",
   "version": "2.7.15"
  }
 },
 "nbformat": 4,
 "nbformat_minor": 2
}
